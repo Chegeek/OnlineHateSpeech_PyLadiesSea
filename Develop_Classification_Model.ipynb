{
 "cells": [
  {
   "cell_type": "code",
   "execution_count": 37,
   "metadata": {
    "collapsed": false
   },
   "outputs": [],
   "source": [
    "from sklearn.feature_extraction.text import TfidfVectorizer\n",
    "from sklearn.preprocessing import label_binarize\n",
    "from sklearn.cross_validation import train_test_split\n",
    "\n",
    "from sklearn.metrics import roc_auc_score, roc_curve, classification_report, auc, confusion_matrix\n",
    "\n",
    "import xgboost as xgb\n",
    "import cPickle as pickle\n",
    "\n",
    "from string import punctuation\n",
    "from nltk import word_tokenize\n",
    "from nltk.stem import snowball\n",
    "\n",
    "import numpy as np\n",
    "import pandas as pd\n",
    "import matplotlib\n",
    "import matplotlib.pyplot as plt\n",
    "plt.style.use('ggplot')\n",
    "\n",
    "stemmer = snowball.SnowballStemmer(\"english\")\n",
    "%matplotlib inline"
   ]
  },
  {
   "cell_type": "code",
   "execution_count": 8,
   "metadata": {
    "collapsed": true
   },
   "outputs": [],
   "source": [
    "def load_data(filename='labeledhate_pyladies.p'):\n",
    "    '''\n",
    "    Load data into a data frame for use in running model\n",
    "    '''\n",
    "    return pickle.load(open(filename, 'rb'))\n",
    "\n",
    "\n",
    "def stem_tokens(tokens, stemmer):\n",
    "    '''Stem the tokens.'''\n",
    "    stemmed = []\n",
    "    for item in tokens:\n",
    "        stemmed.append(stemmer.stem(item))\n",
    "    return stemmed\n",
    "\n",
    "\n",
    "def tokenize(text):\n",
    "    '''Tokenize & stem. Stems automatically for now.\n",
    "    Leaving \"stemmer\" out of function call, so it works with TfidfVectorizer'''\n",
    "    tokens = word_tokenize(text)\n",
    "    stems = stem_tokens(tokens, stemmer)\n",
    "    return stems\n",
    "\n",
    "\n",
    "def splitdata(X, y, classes, test_size=0.3):\n",
    "    '''\n",
    "    Split data into test & train; binarizes y into 5 classes\n",
    "    Outputs: X_train, X_test, y_train, y_test\n",
    "    '''\n",
    "\n",
    "    #relabel y labels to reflect integers [0-4] for xgboost\n",
    "    for ind in range(len(classes)):\n",
    "        y[(y==classes[ind])] = int(ind)\n",
    "\n",
    "    return train_test_split(X, y, test_size=test_size, random_state=42)\n",
    "\n",
    "\n",
    "def createmulticlassROC(classes, y_test, y_score):\n",
    "    '''\n",
    "    Function to create & plot ROC curve & associated areas\n",
    "    Adapted from http://scikit-learn.org/stable/auto_examples/model_selection/plot_roc.html\n",
    "\n",
    "    Inputs: classes: a list of classes\n",
    "            y_test: the test labels, binarized into columns\n",
    "            y_score: the predicted probabilities for each class.\n",
    "                (e.g. y_score = classifier.fit(countv_fit_X_train, y_train).predict_proba(countv_fit_X_test) )\n",
    "    '''\n",
    "\n",
    "    # Compute ROC curve and ROC area for each class\n",
    "    n_classes = len(classes)\n",
    "    fpr = dict()\n",
    "    tpr = dict()\n",
    "    roc_auc = dict()\n",
    "    for i in range(n_classes):\n",
    "        fpr[i], tpr[i], _ = roc_curve(y_test[:, i], y_score[:, i])\n",
    "        roc_auc[i] = auc(fpr[i], tpr[i])\n",
    "\n",
    "    # Plot all ROC curves\n",
    "    # plt.figure(figsize = (12,8))\n",
    "    plt.figure()\n",
    "\n",
    "    for i in range(n_classes):\n",
    "        plt.plot(fpr[i], tpr[i], label='ROC curve of class {0} (area = {1:0.2f})'\n",
    "                                       ''.format(classes[i], roc_auc[i]))\n",
    "\n",
    "    plt.plot([0, 1], [0, 1], 'k--')\n",
    "    plt.xlim([0.0, 1.0])\n",
    "    plt.ylim([0.0, 1.05])\n",
    "    plt.xlabel('False Positive Rate')\n",
    "    plt.ylabel('True Positive Rate')\n",
    "    plt.title('ROC Curves for multi-class')\n",
    "    plt.legend(loc=\"lower right\")\n",
    "    # plt.show()\n",
    "    \n",
    "    \n",
    "def top_features_words(d,vect, n=20):\n",
    "    '''\n",
    "    Function to show the top n important features, their scores,and corresponding words.\n",
    "    The get_fscore method in xgboost returns a dictionary of features & a number.\n",
    "    Get the top n features with the highest scores\n",
    "\n",
    "    d is a dictionary (from bst.get_fscore() in xgboost)\n",
    "    vect is the instantiated vectorizer (e.g. vect = TfidfVectorizer(stuff); not the fitted variable name)\n",
    "    '''\n",
    "    try:\n",
    "        # Back out important features\n",
    "        dicta = vect.vocabulary_\n",
    "        dictb = dict ( (v,k) for k, v in dicta.items() )\n",
    "        # dictb[featurenum] returns the word.\n",
    "\n",
    "        featureslist = []\n",
    "        for k, v in sorted(d.iteritems(), reverse=True, key=lambda (k,v): (v,k)):\n",
    "            featureslist.append((k,v))\n",
    "\n",
    "        topfeatures = []\n",
    "        for i in xrange(n):\n",
    "            fname = featureslist[i][0]\n",
    "            fnum=int(filter(lambda x: x.isdigit(),fname))\n",
    "            topfeatures.append((featureslist[i][0],featureslist[i][1],dictb[fnum]))\n",
    "\n",
    "        return topfeatures\n",
    "\n",
    "    except:\n",
    "        pass\n"
   ]
  },
  {
   "cell_type": "code",
   "execution_count": 9,
   "metadata": {
    "collapsed": false
   },
   "outputs": [
    {
     "name": "stdout",
     "output_type": "stream",
     "text": [
      "Loading Data\n"
     ]
    }
   ],
   "source": [
    "classes = ['NotHate', 'SizeHate', 'GenderHate', 'RaceHate', 'ReligionHate']\n",
    "print('Loading Data')\n",
    "df = load_data()\n",
    "X = df.body\n",
    "# strip puctuation from X\n",
    "X = X.apply(lambda x: ''.join([l for l in x if l not in punctuation]))\n",
    "y = df.label\n",
    "\n",
    "X_train, X_test, y_train, y_test = splitdata(X, y, classes)"
   ]
  },
  {
   "cell_type": "code",
   "execution_count": 10,
   "metadata": {
    "collapsed": true
   },
   "outputs": [],
   "source": [
    "#relabel the output for multiclass roc plot, score\n",
    "ytest_bin = label_binarize(y_test.astype(int), classes=[0,1,2,3,4],sparse_output=False)"
   ]
  },
  {
   "cell_type": "code",
   "execution_count": 66,
   "metadata": {
    "collapsed": false
   },
   "outputs": [
    {
     "data": {
      "text/plain": [
       "numpy.int64"
      ]
     },
     "execution_count": 66,
     "metadata": {},
     "output_type": "execute_result"
    }
   ],
   "source": [
    "type(ytest_bin[0][0])"
   ]
  },
  {
   "cell_type": "code",
   "execution_count": 115,
   "metadata": {
    "collapsed": true
   },
   "outputs": [
    {
     "data": {
      "text/plain": [
       "490085     0\n",
       "1394221    0\n",
       "268654     1\n",
       "644443     0\n",
       "1442813    0\n",
       "1264539    0\n",
       "999715     0\n",
       "1113007    0\n",
       "1208920    0\n",
       "1142385    0\n",
       "1420250    0\n",
       "46688      3\n",
       "41708      3\n",
       "256613     1\n",
       "708470     0\n",
       "696873     0\n",
       "1361746    0\n",
       "170163     1\n",
       "322526     1\n",
       "123732     1\n",
       "1141311    0\n",
       "131170     1\n",
       "1006682    0\n",
       "701852     0\n",
       "1127720    0\n",
       "1144042    0\n",
       "1250727    0\n",
       "139792     1\n",
       "1152387    0\n",
       "199309     1\n",
       "          ..\n",
       "1338767    0\n",
       "1221692    0\n",
       "239450     1\n",
       "359496     1\n",
       "786222     0\n",
       "954183     0\n",
       "929855     0\n",
       "1003594    0\n",
       "1435683    0\n",
       "646567     0\n",
       "1355519    0\n",
       "1028366    0\n",
       "722248     0\n",
       "1045499    0\n",
       "646159     0\n",
       "410835     1\n",
       "271573     1\n",
       "76630      2\n",
       "406159     1\n",
       "1069092    0\n",
       "940019     0\n",
       "1040366    0\n",
       "416743     1\n",
       "1015242    0\n",
       "172324     1\n",
       "1331909    0\n",
       "1363644    0\n",
       "1071253    0\n",
       "619876     0\n",
       "1195615    0\n",
       "Name: label, dtype: int64"
      ]
     },
     "execution_count": 115,
     "metadata": {},
     "output_type": "execute_result"
    }
   ],
   "source": [
    "y_test.astype(int)"
   ]
  },
  {
   "cell_type": "code",
   "execution_count": 19,
   "metadata": {
    "collapsed": true
   },
   "outputs": [],
   "source": [
    "# # WARNING - takes ~10? min to run -- better to open vect_pyladies.p!\n",
    "vect = TfidfVectorizer(decode_error = 'ignore', stop_words = 'english', tokenizer=tokenize)\n",
    "\n",
    "tfidf_X_train = vect.fit_transform(X_train)\n",
    "tfidf_X_test = vect.transform(X_test)\n",
    "\n",
    "# # Save out vect\n",
    "pickle.dump(vect, open('vect_pyladies.p', 'wb'))\n",
    "\n",
    "\n",
    "# Load saved vect with\n",
    "vect = pickle.load(open('vect_pyladies.p', 'rb'))"
   ]
  },
  {
   "cell_type": "code",
   "execution_count": 20,
   "metadata": {
    "collapsed": false
   },
   "outputs": [],
   "source": [
    "xg_train = xgb.DMatrix(tfidf_X_train, label=y_train)\n",
    "xg_test = xgb.DMatrix(tfidf_X_test, label=y_test)"
   ]
  },
  {
   "cell_type": "code",
   "execution_count": 22,
   "metadata": {
    "collapsed": true
   },
   "outputs": [
    {
     "name": "stderr",
     "output_type": "stream",
     "text": [
      "Will train until test error hasn't decreased in 5 rounds.\n",
      "[0]\ttrain-merror:0.253487\ttest-merror:0.255405\n",
      "[1]\ttrain-merror:0.248415\ttest-merror:0.250559\n",
      "[2]\ttrain-merror:0.245400\ttest-merror:0.248646\n",
      "[3]\ttrain-merror:0.241545\ttest-merror:0.245593\n",
      "[4]\ttrain-merror:0.237187\ttest-merror:0.240793\n",
      "[5]\ttrain-merror:0.233636\ttest-merror:0.238494\n",
      "[6]\ttrain-merror:0.231161\ttest-merror:0.236241\n",
      "[7]\ttrain-merror:0.229470\ttest-merror:0.235119\n",
      "[8]\ttrain-merror:0.226948\ttest-merror:0.233077\n",
      "[9]\ttrain-merror:0.225675\ttest-merror:0.232287\n",
      "[10]\ttrain-merror:0.224256\ttest-merror:0.231330\n",
      "[11]\ttrain-merror:0.222746\ttest-merror:0.230420\n",
      "[12]\ttrain-merror:0.221978\ttest-merror:0.229785\n",
      "[13]\ttrain-merror:0.220331\ttest-merror:0.228397\n",
      "[14]\ttrain-merror:0.219306\ttest-merror:0.227891\n",
      "[15]\ttrain-merror:0.217718\ttest-merror:0.226493\n",
      "[16]\ttrain-merror:0.216299\ttest-merror:0.225620\n",
      "[17]\ttrain-merror:0.215183\ttest-merror:0.224875\n",
      "[18]\ttrain-merror:0.214352\ttest-merror:0.224360\n",
      "[19]\ttrain-merror:0.213548\ttest-merror:0.223698\n",
      "[20]\ttrain-merror:0.212972\ttest-merror:0.223523\n",
      "[21]\ttrain-merror:0.212247\ttest-merror:0.223330\n",
      "[22]\ttrain-merror:0.211810\ttest-merror:0.222999\n",
      "[23]\ttrain-merror:0.211274\ttest-merror:0.222815\n",
      "[24]\ttrain-merror:0.210785\ttest-merror:0.222548\n",
      "[25]\ttrain-merror:0.210312\ttest-merror:0.222144\n",
      "[26]\ttrain-merror:0.209694\ttest-merror:0.221868\n",
      "[27]\ttrain-merror:0.208736\ttest-merror:0.221445\n",
      "[28]\ttrain-merror:0.208176\ttest-merror:0.221077\n",
      "[29]\ttrain-merror:0.207617\ttest-merror:0.220819\n",
      "[30]\ttrain-merror:0.207104\ttest-merror:0.220727\n",
      "[31]\ttrain-merror:0.206521\ttest-merror:0.220341\n",
      "[32]\ttrain-merror:0.205815\ttest-merror:0.219651\n",
      "[33]\ttrain-merror:0.205209\ttest-merror:0.219449\n",
      "[34]\ttrain-merror:0.204176\ttest-merror:0.218796\n",
      "[35]\ttrain-merror:0.203754\ttest-merror:0.218456\n",
      "[36]\ttrain-merror:0.203226\ttest-merror:0.218107\n",
      "[37]\ttrain-merror:0.202797\ttest-merror:0.217950\n",
      "[38]\ttrain-merror:0.202497\ttest-merror:0.217628\n",
      "[39]\ttrain-merror:0.201973\ttest-merror:0.217500\n",
      "[40]\ttrain-merror:0.201559\ttest-merror:0.217307\n",
      "[41]\ttrain-merror:0.201122\ttest-merror:0.217297\n",
      "[42]\ttrain-merror:0.200826\ttest-merror:0.217104\n",
      "[43]\ttrain-merror:0.200211\ttest-merror:0.216571\n",
      "[44]\ttrain-merror:0.199955\ttest-merror:0.216516\n",
      "[45]\ttrain-merror:0.199687\ttest-merror:0.216304\n",
      "[46]\ttrain-merror:0.199277\ttest-merror:0.216074\n",
      "[47]\ttrain-merror:0.198926\ttest-merror:0.215900\n",
      "[48]\ttrain-merror:0.198465\ttest-merror:0.215615\n",
      "[49]\ttrain-merror:0.198119\ttest-merror:0.215624\n"
     ]
    }
   ],
   "source": [
    "# Set up xboost parameters\n",
    "# use softmax multi-class classification to return probabilities\n",
    "param = {'objective': 'multi:softprob',\n",
    "         'eta': 0.9,\n",
    "         'max_depth': 6,\n",
    "         'num_class': 5\n",
    "         }\n",
    "watchlist = [ (xg_train, 'train'), (xg_test, 'test') ]\n",
    "num_round = 50  # Artificially small -- we'll have a crappy model. Set to ~400 or 450.\n",
    "evals_result_dict = {}\n",
    "bst = xgb.train(param, xg_train, num_round, watchlist, early_stopping_rounds=5, evals_result=evals_result_dict)\n",
    "\n",
    "# Save the model\n",
    "bst.save_model('hatepredictor_pyladies.model')\n",
    "\n",
    "# # to load a saved xgboost model:\n",
    "# bst = xgb.Booster()\n",
    "# bst.load_model('hatepredictor_pyladies.model')"
   ]
  },
  {
   "cell_type": "code",
   "execution_count": 58,
   "metadata": {
    "collapsed": false
   },
   "outputs": [],
   "source": [
    "# get prediction - this is in a 1D array, need reshape to (ndata, nclass)\n",
    "y_proba = bst.predict(xg_test).reshape(y_test.shape[0], 5)\n",
    "y_pred_ind = np.argmax(y_proba, axis=1)"
   ]
  },
  {
   "cell_type": "code",
   "execution_count": 59,
   "metadata": {
    "collapsed": false
   },
   "outputs": [
    {
     "data": {
      "text/plain": [
       "array([0, 0, 0, ..., 0, 0, 0])"
      ]
     },
     "execution_count": 59,
     "metadata": {},
     "output_type": "execute_result"
    }
   ],
   "source": [
    "y_pred_ind\n",
    "len(y_pred_ind)  #108745"
   ]
  },
  {
   "cell_type": "code",
   "execution_count": 80,
   "metadata": {
    "collapsed": true
   },
   "outputs": [],
   "source": [
    "# Didn't need...\n",
    "\n",
    "# # Write out predictions in 1 or 0 format\n",
    "# y_preds = np.zeros_like(y_proba, dtype=np.int64)\n",
    "\n",
    "# for i in range(len(y_preds)):\n",
    "#     y_preds[i][y_pred_ind[i]] = 1\n",
    "    "
   ]
  },
  {
   "cell_type": "code",
   "execution_count": 96,
   "metadata": {
    "collapsed": false
   },
   "outputs": [
    {
     "data": {
      "text/plain": [
       "array([0, 0, 0, ..., 0, 0, 0])"
      ]
     },
     "execution_count": 96,
     "metadata": {},
     "output_type": "execute_result"
    }
   ],
   "source": [
    "y_pred_ind"
   ]
  },
  {
   "cell_type": "code",
   "execution_count": 90,
   "metadata": {
    "collapsed": false
   },
   "outputs": [
    {
     "data": {
      "text/plain": [
       "array([[1, 0, 0, 0, 0],\n",
       "       [1, 0, 0, 0, 0],\n",
       "       [1, 0, 0, 0, 0],\n",
       "       ..., \n",
       "       [1, 0, 0, 0, 0],\n",
       "       [1, 0, 0, 0, 0],\n",
       "       [1, 0, 0, 0, 0]])"
      ]
     },
     "execution_count": 90,
     "metadata": {},
     "output_type": "execute_result"
    }
   ],
   "source": [
    "y_preds"
   ]
  },
  {
   "cell_type": "code",
   "execution_count": 91,
   "metadata": {
    "collapsed": false
   },
   "outputs": [
    {
     "data": {
      "text/plain": [
       "(array([  9.33080000e+04,   0.00000000e+00,   1.22900000e+04,\n",
       "          0.00000000e+00,   0.00000000e+00,   1.58500000e+03,\n",
       "          0.00000000e+00,   1.50400000e+03,   0.00000000e+00,\n",
       "          5.80000000e+01]),\n",
       " array([ 0. ,  0.4,  0.8,  1.2,  1.6,  2. ,  2.4,  2.8,  3.2,  3.6,  4. ]),\n",
       " <a list of 10 Patch objects>)"
      ]
     },
     "execution_count": 91,
     "metadata": {},
     "output_type": "execute_result"
    },
    {
     "data": {
      "image/png": "[encoded data removed]",
      "text/plain": [
       "<matplotlib.figure.Figure at 0x11b22a2d0>"
      ]
     },
     "metadata": {},
     "output_type": "display_data"
    }
   ],
   "source": [
    "# distribution of indices\n",
    "plt.hist(y_pred_ind)"
   ]
  },
  {
   "cell_type": "code",
   "execution_count": 170,
   "metadata": {
    "collapsed": true
   },
   "outputs": [],
   "source": [
    "def plot_confusion_matrix(cm, classes, title='Confusion matrix', cmap=plt.cm.Blues):\n",
    "    plt.figure()\n",
    "    plt.imshow(cm, interpolation='nearest', cmap=cmap, vmin=0, vmax=15000)\n",
    "    plt.title(title)\n",
    "    plt.colorbar()\n",
    "    tick_marks = np.arange(len(classes))\n",
    "    plt.xticks(tick_marks, classes, rotation=45)\n",
    "    plt.yticks(tick_marks, classes)\n",
    "    plt.tight_layout()\n",
    "    plt.ylabel('True label')\n",
    "    plt.xlabel('Predicted label')"
   ]
  },
  {
   "cell_type": "code",
   "execution_count": 117,
   "metadata": {
    "collapsed": false
   },
   "outputs": [],
   "source": [
    "y_test_int = y_test.astype(int)"
   ]
  },
  {
   "cell_type": "code",
   "execution_count": 136,
   "metadata": {
    "collapsed": false
   },
   "outputs": [],
   "source": [
    "y_test_array = np.array(y_test_int)"
   ]
  },
  {
   "cell_type": "code",
   "execution_count": 119,
   "metadata": {
    "collapsed": false
   },
   "outputs": [
    {
     "data": {
      "text/plain": [
       "dtype('int64')"
      ]
     },
     "execution_count": 119,
     "metadata": {},
     "output_type": "execute_result"
    }
   ],
   "source": [
    "y_pred_ind.dtype"
   ]
  },
  {
   "cell_type": "code",
   "execution_count": 128,
   "metadata": {
    "collapsed": false
   },
   "outputs": [
    {
     "data": {
      "text/plain": [
       "array([0, 0, 0, ..., 0, 0, 0])"
      ]
     },
     "execution_count": 128,
     "metadata": {},
     "output_type": "execute_result"
    }
   ],
   "source": [
    "y_pred_ind"
   ]
  },
  {
   "cell_type": "code",
   "execution_count": 148,
   "metadata": {
    "collapsed": false
   },
   "outputs": [
    {
     "data": {
      "text/plain": [
       "(array([  9.33080000e+04,   1.22900000e+04,   1.58500000e+03,\n",
       "          1.50400000e+03,   5.80000000e+01]),\n",
       " array([ 0. ,  0.8,  1.6,  2.4,  3.2,  4. ]),\n",
       " <a list of 5 Patch objects>)"
      ]
     },
     "execution_count": 148,
     "metadata": {},
     "output_type": "execute_result"
    },
    {
     "data": {
      "image/png": "[encoded data removed]",
      "text/plain": [
       "<matplotlib.figure.Figure at 0x117c7fad0>"
      ]
     },
     "metadata": {},
     "output_type": "display_data"
    }
   ],
   "source": [
    "# plt.hist(y_test_array, bins=5)\n",
    "plt.hist(y_pred_ind, bins=5)"
   ]
  },
  {
   "cell_type": "code",
   "execution_count": null,
   "metadata": {
    "collapsed": false
   },
   "outputs": [],
   "source": []
  },
  {
   "cell_type": "code",
   "execution_count": 145,
   "metadata": {
    "collapsed": false
   },
   "outputs": [
    {
     "data": {
      "text/plain": [
       "array([0, 0, 0, ..., 0, 0, 0])"
      ]
     },
     "execution_count": 145,
     "metadata": {},
     "output_type": "execute_result"
    }
   ],
   "source": [
    "# y_test_array\n",
    "y_pred_ind"
   ]
  },
  {
   "cell_type": "code",
   "execution_count": 181,
   "metadata": {
    "collapsed": false
   },
   "outputs": [
    {
     "name": "stdout",
     "output_type": "stream",
     "text": [
      "[[73318  2328   272   181     4]\n",
      " [13851  9616   103    60     3]\n",
      " [ 3233   203  1142    36     8]\n",
      " [ 2561   133    46  1199    21]\n",
      " [  345    10    22    28    22]]\n"
     ]
    }
   ],
   "source": [
    "cm = confusion_matrix(y_test_array, y_pred_ind)\n",
    "print cm"
   ]
  },
  {
   "cell_type": "code",
   "execution_count": 171,
   "metadata": {
    "collapsed": false
   },
   "outputs": [
    {
     "data": {
      "image/png": "[encoded data removed]",
      "text/plain": [
       "<matplotlib.figure.Figure at 0x113332b50>"
      ]
     },
     "metadata": {},
     "output_type": "display_data"
    }
   ],
   "source": [
    "figure = plt.Figure(figsize=(12, 12))\n",
    "plot_confusion_matrix(cm, classes, title='Confusion matrix', cmap=plt.cm.Blues)"
   ]
  },
  {
   "cell_type": "code",
   "execution_count": null,
   "metadata": {
    "collapsed": false
   },
   "outputs": [],
   "source": []
  },
  {
   "cell_type": "code",
   "execution_count": null,
   "metadata": {
    "collapsed": false
   },
   "outputs": [],
   "source": []
  },
  {
   "cell_type": "code",
   "execution_count": 180,
   "metadata": {
    "collapsed": false
   },
   "outputs": [],
   "source": []
  },
  {
   "cell_type": "code",
   "execution_count": null,
   "metadata": {
    "collapsed": true
   },
   "outputs": [],
   "source": []
  }
 ],
 "metadata": {
  "kernelspec": {
   "display_name": "Python 2",
   "language": "python",
   "name": "python2"
  },
  "language_info": {
   "codemirror_mode": {
    "name": "ipython",
    "version": 2
   },
   "file_extension": ".py",
   "mimetype": "text/x-python",
   "name": "python",
   "nbconvert_exporter": "python",
   "pygments_lexer": "ipython2",
   "version": "2.7.11"
  }
 },
 "nbformat": 4,
 "nbformat_minor": 0
}
